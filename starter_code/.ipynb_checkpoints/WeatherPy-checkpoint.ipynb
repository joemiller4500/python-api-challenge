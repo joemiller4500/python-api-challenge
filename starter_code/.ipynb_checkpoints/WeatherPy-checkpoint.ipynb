{
 "cells": [
  {
   "cell_type": "markdown",
   "metadata": {},
   "source": [
    "# WeatherPy\n",
    "----\n",
    "\n",
    "#### Note\n",
    "* Instructions have been included for each segment. You do not have to follow them exactly, but they are included to help you think through the steps."
   ]
  },
  {
   "cell_type": "code",
   "execution_count": 14,
   "metadata": {
    "scrolled": true
   },
   "outputs": [],
   "source": [
    "# Dependencies and Setup\n",
    "import matplotlib.pyplot as plt\n",
    "import pandas as pd\n",
    "import numpy as np\n",
    "import requests\n",
    "import time\n",
    "import pytemperature\n",
    "import scipy.stats as st\n",
    "\n",
    "# Import API key\n",
    "from api_keys import weather_api_key\n",
    "\n",
    "# Incorporated citipy to determine city based on latitude and longitude\n",
    "from citipy import citipy\n",
    "\n",
    "# Output File (CSV)\n",
    "output_data_file = \"output_data/cities.csv\"\n",
    "\n",
    "# Weather_api_key\n",
    "weather_api_key = \"68cfa81ed8bd91989f8db0ebf8d71564\"\n",
    "\n",
    "# Range of latitudes and longitudes\n",
    "lat_range = (-90, 90)\n",
    "lng_range = (-180, 180)"
   ]
  },
  {
   "cell_type": "markdown",
   "metadata": {},
   "source": [
    "## Generate Cities List"
   ]
  },
  {
   "cell_type": "code",
   "execution_count": 15,
   "metadata": {},
   "outputs": [
    {
     "data": {
      "text/html": [
       "<div>\n",
       "<style scoped>\n",
       "    .dataframe tbody tr th:only-of-type {\n",
       "        vertical-align: middle;\n",
       "    }\n",
       "\n",
       "    .dataframe tbody tr th {\n",
       "        vertical-align: top;\n",
       "    }\n",
       "\n",
       "    .dataframe thead th {\n",
       "        text-align: right;\n",
       "    }\n",
       "</style>\n",
       "<table border=\"1\" class=\"dataframe\">\n",
       "  <thead>\n",
       "    <tr style=\"text-align: right;\">\n",
       "      <th></th>\n",
       "      <th>City</th>\n",
       "      <th>Cloudiness</th>\n",
       "      <th>Country</th>\n",
       "      <th>Date</th>\n",
       "      <th>Humidity</th>\n",
       "      <th>Lat</th>\n",
       "      <th>Lng</th>\n",
       "      <th>Max Temp</th>\n",
       "      <th>Wind Speed</th>\n",
       "    </tr>\n",
       "  </thead>\n",
       "  <tbody>\n",
       "    <tr>\n",
       "      <th>0</th>\n",
       "      <td>Ilulissat</td>\n",
       "      <td>null</td>\n",
       "      <td>null</td>\n",
       "      <td>null</td>\n",
       "      <td>null</td>\n",
       "      <td>null</td>\n",
       "      <td>null</td>\n",
       "      <td>null</td>\n",
       "      <td>null</td>\n",
       "    </tr>\n",
       "    <tr>\n",
       "      <th>1</th>\n",
       "      <td>Ushuaia</td>\n",
       "      <td>null</td>\n",
       "      <td>null</td>\n",
       "      <td>null</td>\n",
       "      <td>null</td>\n",
       "      <td>null</td>\n",
       "      <td>null</td>\n",
       "      <td>null</td>\n",
       "      <td>null</td>\n",
       "    </tr>\n",
       "    <tr>\n",
       "      <th>2</th>\n",
       "      <td>Savonlinna</td>\n",
       "      <td>null</td>\n",
       "      <td>null</td>\n",
       "      <td>null</td>\n",
       "      <td>null</td>\n",
       "      <td>null</td>\n",
       "      <td>null</td>\n",
       "      <td>null</td>\n",
       "      <td>null</td>\n",
       "    </tr>\n",
       "    <tr>\n",
       "      <th>3</th>\n",
       "      <td>Krasnokamensk</td>\n",
       "      <td>null</td>\n",
       "      <td>null</td>\n",
       "      <td>null</td>\n",
       "      <td>null</td>\n",
       "      <td>null</td>\n",
       "      <td>null</td>\n",
       "      <td>null</td>\n",
       "      <td>null</td>\n",
       "    </tr>\n",
       "    <tr>\n",
       "      <th>4</th>\n",
       "      <td>Mataura</td>\n",
       "      <td>null</td>\n",
       "      <td>null</td>\n",
       "      <td>null</td>\n",
       "      <td>null</td>\n",
       "      <td>null</td>\n",
       "      <td>null</td>\n",
       "      <td>null</td>\n",
       "      <td>null</td>\n",
       "    </tr>\n",
       "    <tr>\n",
       "      <th>...</th>\n",
       "      <td>...</td>\n",
       "      <td>...</td>\n",
       "      <td>...</td>\n",
       "      <td>...</td>\n",
       "      <td>...</td>\n",
       "      <td>...</td>\n",
       "      <td>...</td>\n",
       "      <td>...</td>\n",
       "      <td>...</td>\n",
       "    </tr>\n",
       "    <tr>\n",
       "      <th>598</th>\n",
       "      <td>Groton</td>\n",
       "      <td>null</td>\n",
       "      <td>null</td>\n",
       "      <td>null</td>\n",
       "      <td>null</td>\n",
       "      <td>null</td>\n",
       "      <td>null</td>\n",
       "      <td>null</td>\n",
       "      <td>null</td>\n",
       "    </tr>\n",
       "    <tr>\n",
       "      <th>599</th>\n",
       "      <td>Champerico</td>\n",
       "      <td>null</td>\n",
       "      <td>null</td>\n",
       "      <td>null</td>\n",
       "      <td>null</td>\n",
       "      <td>null</td>\n",
       "      <td>null</td>\n",
       "      <td>null</td>\n",
       "      <td>null</td>\n",
       "    </tr>\n",
       "    <tr>\n",
       "      <th>600</th>\n",
       "      <td>Solvychegodsk</td>\n",
       "      <td>null</td>\n",
       "      <td>null</td>\n",
       "      <td>null</td>\n",
       "      <td>null</td>\n",
       "      <td>null</td>\n",
       "      <td>null</td>\n",
       "      <td>null</td>\n",
       "      <td>null</td>\n",
       "    </tr>\n",
       "    <tr>\n",
       "      <th>601</th>\n",
       "      <td>Klyuchi</td>\n",
       "      <td>null</td>\n",
       "      <td>null</td>\n",
       "      <td>null</td>\n",
       "      <td>null</td>\n",
       "      <td>null</td>\n",
       "      <td>null</td>\n",
       "      <td>null</td>\n",
       "      <td>null</td>\n",
       "    </tr>\n",
       "    <tr>\n",
       "      <th>602</th>\n",
       "      <td>Lasa</td>\n",
       "      <td>null</td>\n",
       "      <td>null</td>\n",
       "      <td>null</td>\n",
       "      <td>null</td>\n",
       "      <td>null</td>\n",
       "      <td>null</td>\n",
       "      <td>null</td>\n",
       "      <td>null</td>\n",
       "    </tr>\n",
       "  </tbody>\n",
       "</table>\n",
       "<p>603 rows × 9 columns</p>\n",
       "</div>"
      ],
      "text/plain": [
       "              City Cloudiness Country  Date Humidity   Lat   Lng Max Temp  \\\n",
       "0        Ilulissat       null    null  null     null  null  null     null   \n",
       "1          Ushuaia       null    null  null     null  null  null     null   \n",
       "2       Savonlinna       null    null  null     null  null  null     null   \n",
       "3    Krasnokamensk       null    null  null     null  null  null     null   \n",
       "4          Mataura       null    null  null     null  null  null     null   \n",
       "..             ...        ...     ...   ...      ...   ...   ...      ...   \n",
       "598         Groton       null    null  null     null  null  null     null   \n",
       "599     Champerico       null    null  null     null  null  null     null   \n",
       "600  Solvychegodsk       null    null  null     null  null  null     null   \n",
       "601        Klyuchi       null    null  null     null  null  null     null   \n",
       "602           Lasa       null    null  null     null  null  null     null   \n",
       "\n",
       "    Wind Speed  \n",
       "0         null  \n",
       "1         null  \n",
       "2         null  \n",
       "3         null  \n",
       "4         null  \n",
       "..         ...  \n",
       "598       null  \n",
       "599       null  \n",
       "600       null  \n",
       "601       null  \n",
       "602       null  \n",
       "\n",
       "[603 rows x 9 columns]"
      ]
     },
     "execution_count": 15,
     "metadata": {},
     "output_type": "execute_result"
    }
   ],
   "source": [
    "# List for holding lat_lngs and cities\n",
    "lat_lngs = []\n",
    "cities = []\n",
    "\n",
    "# Create a set of random lat and lng combinations\n",
    "lats = np.random.uniform(low=-90.000, high=90.000, size=1500)\n",
    "lngs = np.random.uniform(low=-180.000, high=180.000, size=1500)\n",
    "lat_lngs = zip(lats, lngs)\n",
    "\n",
    "# Identify nearest city for each lat, lng combination\n",
    "for lat_lng in lat_lngs:\n",
    "    city = citipy.nearest_city(lat_lng[0], lat_lng[1]).city_name\n",
    "    city = city.capitalize()\n",
    "    \n",
    "    # If the city is unique, then add it to a our cities list\n",
    "    if city not in cities:\n",
    "        cities.append(city)\n",
    "\n",
    "city_df = pd.DataFrame({\"City\":cities})\n",
    "city_df[\"Cloudiness\"] = \"null\"\n",
    "city_df[\"Country\"] = \"null\"\n",
    "city_df[\"Date\"] = \"null\"\n",
    "city_df[\"Humidity\"] = \"null\"\n",
    "city_df[\"Lat\"] = \"null\"\n",
    "city_df[\"Lng\"] = \"null\"\n",
    "city_df[\"Max Temp\"] = \"null\"\n",
    "city_df[\"Wind Speed\"] = \"null\"\n",
    "        \n",
    "# Print the city count to confirm sufficient count\n",
    "city_df"
   ]
  },
  {
   "cell_type": "markdown",
   "metadata": {},
   "source": [
    "### Perform API Calls\n",
    "* Perform a weather check on each city using a series of successive API calls.\n",
    "* Include a print log of each city as it'sbeing processed (with the city number and city name).\n"
   ]
  },
  {
   "cell_type": "code",
   "execution_count": 17,
   "metadata": {},
   "outputs": [
    {
     "name": "stdout",
     "output_type": "stream",
     "text": [
      "processing record 0 | Ilulissat\n",
      "processing record 1 | Ushuaia\n",
      "processing record 2 | Savonlinna\n",
      "processing record 3 | Krasnokamensk\n",
      "processing record 4 | Mataura\n",
      "processing record 5 | Ribeira grande\n",
      "processing record 6 | Atuona\n",
      "processing record 7 | Bambous virieux\n",
      "processing record 8 | Katsuura\n",
      "processing record 9 | Verkhnevilyuysk\n",
      "processing record 10 | Tarakan\n",
      "processing record 11 | Arraial do cabo\n",
      "Taolanaro not found. Skipping...\n",
      "processing record 13 | Bubaque\n",
      "processing record 14 | Port elizabeth\n",
      "processing record 15 | Gat\n",
      "processing record 16 | Fort saint james\n",
      "processing record 17 | Borovskoy\n",
      "processing record 18 | Jalalpur pirwala\n",
      "processing record 19 | Yellowknife\n",
      "processing record 20 | Longyearbyen\n",
      "processing record 21 | Punta arenas\n",
      "Vaitupu not found. Skipping...\n",
      "processing record 23 | Albany\n",
      "processing record 24 | Tiksi\n",
      "processing record 25 | Mount gambier\n",
      "processing record 26 | Port lincoln\n",
      "processing record 27 | Hilo\n",
      "processing record 28 | Cape town\n",
      "processing record 29 | Vaini\n",
      "processing record 30 | Kapaa\n",
      "processing record 31 | Busselton\n",
      "processing record 32 | Sterling\n",
      "processing record 33 | Galapagar\n",
      "processing record 34 | Rikitea\n",
      "processing record 35 | Georgetown\n",
      "processing record 36 | Saskylakh\n",
      "processing record 37 | Chuy\n",
      "processing record 38 | Cidreira\n",
      "processing record 39 | Geraldton\n",
      "processing record 40 | Brae\n",
      "processing record 41 | Severo-kurilsk\n",
      "processing record 42 | Cortez\n",
      "processing record 43 | Lagoa\n",
      "processing record 44 | Hirara\n",
      "processing record 45 | Teya\n",
      "processing record 46 | Arbagar\n",
      "processing record 47 | Diego de almagro\n",
      "processing record 48 | New norfolk\n",
      "processing record 49 | San onofre\n",
      "Samalaeulu not found. Skipping...\n",
      "processing record 51 | Saint-philippe\n",
      "processing record 52 | Leningradskiy\n",
      "processing record 53 | Rochester\n",
      "Lolua not found. Skipping...\n",
      "processing record 55 | Aanekoski\n",
      "processing record 56 | Aswan\n",
      "Nizhneyansk not found. Skipping...\n",
      "processing record 58 | Yulara\n",
      "processing record 59 | Sao filipe\n",
      "processing record 60 | Airai\n",
      "processing record 61 | Sumbe\n",
      "processing record 62 | Saqqez\n",
      "processing record 63 | Fortuna\n",
      "processing record 64 | Gedo\n",
      "processing record 65 | Khatanga\n",
      "processing record 66 | Chapais\n",
      "processing record 67 | Bredasdorp\n",
      "Tsihombe not found. Skipping...\n",
      "processing record 69 | Butaritari\n",
      "processing record 70 | Monok\n",
      "processing record 71 | Sabang\n",
      "Illoqqortoormiut not found. Skipping...\n",
      "processing record 73 | Terre haute\n",
      "processing record 74 | Nanortalik\n",
      "processing record 75 | Boende\n",
      "processing record 76 | Qinnan\n",
      "processing record 77 | Victoria\n",
      "processing record 78 | Dikson\n",
      "processing record 79 | East london\n",
      "processing record 80 | San andres\n",
      "processing record 81 | Bluff\n",
      "processing record 82 | Cabo san lucas\n",
      "processing record 83 | Hobart\n",
      "processing record 84 | Ornskoldsvik\n",
      "processing record 85 | Lebu\n",
      "processing record 86 | Namatanai\n",
      "processing record 87 | Ponta do sol\n",
      "processing record 88 | Port alfred\n",
      "processing record 89 | Port blair\n",
      "Barentsburg not found. Skipping...\n",
      "processing record 91 | Sorland\n",
      "processing record 92 | Provideniya\n",
      "processing record 93 | Lima\n",
      "processing record 94 | Upernavik\n",
      "processing record 95 | Thompson\n",
      "processing record 96 | Jamestown\n",
      "processing record 97 | Sungaipenuh\n",
      "Grand river south east not found. Skipping...\n",
      "processing record 99 | Urumqi\n",
      "processing record 100 | Banda aceh\n",
      "Wa not found. Skipping...\n",
      "processing record 102 | Rawson\n",
      "processing record 103 | Kaeo\n",
      "processing record 104 | Belmonte\n",
      "Marcona not found. Skipping...\n",
      "processing record 106 | Kodiak\n",
      "processing record 107 | Shevchenkove\n",
      "processing record 108 | Haikou\n",
      "processing record 109 | Harper\n",
      "Belushya guba not found. Skipping...\n",
      "processing record 111 | Skegness\n",
      "processing record 112 | Lavrentiya\n",
      "processing record 113 | Altinho\n",
      "processing record 114 | Dubbo\n",
      "processing record 115 | Barrow\n",
      "processing record 116 | Vila velha\n",
      "processing record 117 | Mar del plata\n",
      "processing record 118 | Quatre cocos\n",
      "processing record 119 | Castro\n",
      "processing record 120 | Hithadhoo\n",
      "processing record 121 | Nishihara\n",
      "processing record 122 | Pevek\n",
      "processing record 123 | Tupik\n",
      "processing record 124 | Bandar-e lengeh\n",
      "processing record 125 | Dingle\n",
      "processing record 126 | Mokhsogollokh\n",
      "processing record 127 | Grindavik\n",
      "Attawapiskat not found. Skipping...\n",
      "processing record 129 | Byron bay\n",
      "processing record 130 | Pisco\n",
      "processing record 131 | Chokwe\n",
      "processing record 132 | Constitucion\n",
      "processing record 133 | Cayenne\n",
      "processing record 134 | Hasaki\n",
      "Doctor pedro p. pena not found. Skipping...\n",
      "processing record 136 | Torbay\n",
      "processing record 137 | Kijang\n",
      "processing record 138 | Qaanaaq\n",
      "processing record 139 | Okha\n",
      "processing record 140 | Baykit\n",
      "processing record 141 | Nikolskoye\n",
      "processing record 142 | Faanui\n",
      "processing record 143 | Shenkursk\n",
      "processing record 144 | Steinbach\n",
      "processing record 145 | Ipixuna\n",
      "processing record 146 | Leh\n",
      "processing record 147 | La ronge\n",
      "processing record 148 | Bethel\n",
      "processing record 149 | Progreso\n",
      "processing record 150 | Biak\n",
      "processing record 151 | Cloquet\n",
      "processing record 152 | Pathein\n",
      "processing record 153 | Abha\n",
      "processing record 154 | Saint george\n",
      "processing record 155 | Buchanan\n",
      "processing record 156 | Chokurdakh\n",
      "processing record 157 | Kaniama\n",
      "processing record 158 | Itaueira\n",
      "processing record 159 | Upata\n",
      "processing record 160 | Anadyr\n",
      "processing record 161 | Pierre\n",
      "processing record 162 | Shingu\n",
      "processing record 163 | Mahebourg\n",
      "Palkaka not found. Skipping...\n",
      "Qabis not found. Skipping...\n",
      "processing record 166 | Doka\n",
      "processing record 167 | Tuktoyaktuk\n",
      "processing record 168 | Sibu\n",
      "Meyungs not found. Skipping...\n",
      "processing record 170 | Acapulco\n",
      "processing record 171 | Miles city\n",
      "processing record 172 | Bosaso\n",
      "processing record 173 | Morlaix\n",
      "processing record 174 | Bairnsdale\n",
      "processing record 175 | Gold coast\n",
      "processing record 176 | Atbasar\n",
      "Hihifo not found. Skipping...\n",
      "processing record 178 | Yantal\n",
      "processing record 179 | Vila franca do campo\n",
      "processing record 180 | Bengkulu\n",
      "processing record 181 | Orcopampa\n",
      "processing record 182 | Narsaq\n",
      "processing record 183 | Urengoy\n",
      "processing record 184 | Adre\n",
      "processing record 185 | Avarua\n",
      "processing record 186 | Itaquyry\n",
      "processing record 187 | Maxixe\n",
      "processing record 188 | Baza\n",
      "Karauzyak not found. Skipping...\n",
      "processing record 190 | Kieta\n",
      "processing record 191 | Alyangula\n",
      "Samusu not found. Skipping...\n",
      "processing record 193 | Souillac\n",
      "processing record 194 | Kaitangata\n",
      "processing record 195 | Bende\n",
      "processing record 196 | Isangel\n",
      "processing record 197 | Ciputat\n",
      "processing record 198 | Tessalit\n",
      "processing record 199 | Makubetsu\n",
      "processing record 200 | Ballina\n",
      "processing record 201 | Vao\n",
      "processing record 202 | Sayyan\n",
      "processing record 203 | Mulhouse\n",
      "processing record 204 | Jinchang\n",
      "processing record 205 | Aklavik\n",
      "Tarudant not found. Skipping...\n",
      "processing record 207 | Xinqing\n",
      "processing record 208 | Hermanus\n",
      "processing record 209 | Baturaja\n",
      "processing record 210 | Pontian kecil\n",
      "processing record 211 | Sitka\n",
      "processing record 212 | Portland\n",
      "processing record 213 | Abonnema\n",
      "processing record 214 | Stornoway\n",
      "processing record 215 | Tasiilaq\n",
      "processing record 216 | Kon tum\n",
      "processing record 217 | Santa cruz de tenerife\n",
      "processing record 218 | Mawlamyine\n",
      "processing record 219 | Dalvik\n",
      "processing record 220 | Sibolga\n",
      "processing record 221 | Segezha\n",
      "processing record 222 | Port hardy\n",
      "Khonuu not found. Skipping...\n",
      "processing record 224 | Lakhimpur\n",
      "processing record 225 | San juan\n",
      "processing record 226 | Lewisporte\n",
      "processing record 227 | Necochea\n",
      "processing record 228 | Gezing\n",
      "processing record 229 | Tibacuy\n",
      "processing record 230 | Igrim\n",
      "processing record 231 | Tuatapere\n",
      "processing record 232 | Aitape\n",
      "processing record 233 | Diamantina\n",
      "processing record 234 | Mancio lima\n",
      "processing record 235 | Cherskiy\n",
      "processing record 236 | Aripuana\n",
      "processing record 237 | Aksehir\n",
      "processing record 238 | Alice springs\n",
      "processing record 239 | Lundazi\n",
      "Saleaula not found. Skipping...\n",
      "processing record 241 | Nago\n",
      "processing record 242 | Norman wells\n",
      "processing record 243 | Mumford\n",
      "processing record 244 | Tautira\n",
      "processing record 245 | Coleraine\n",
      "processing record 246 | Siguiri\n",
      "processing record 247 | Mogzon\n",
      "processing record 248 | Flinders\n",
      "Palabuhanratu not found. Skipping...\n",
      "processing record 250 | Umm lajj\n"
     ]
    },
    {
     "name": "stdout",
     "output_type": "stream",
     "text": [
      "processing record 251 | Puerto ayora\n",
      "processing record 252 | Abbeville\n",
      "processing record 253 | Port-gentil\n",
      "processing record 254 | Peace river\n",
      "processing record 255 | Kasongo-lunda\n",
      "Amderma not found. Skipping...\n",
      "processing record 257 | Hanyang\n",
      "processing record 258 | Waingapu\n",
      "processing record 259 | Pouembout\n",
      "processing record 260 | Kismayo\n",
      "processing record 261 | Muisne\n",
      "processing record 262 | Hami\n",
      "processing record 263 | Save\n",
      "processing record 264 | Basco\n",
      "processing record 265 | Clyde river\n",
      "processing record 266 | San cristobal\n",
      "processing record 267 | Lishui\n",
      "processing record 268 | Ostrovnoy\n",
      "processing record 269 | Ketchikan\n",
      "processing record 270 | Oussouye\n",
      "processing record 271 | Pochutla\n",
      "processing record 272 | Rio gallegos\n",
      "Viligili not found. Skipping...\n",
      "Burica not found. Skipping...\n",
      "processing record 275 | Itarema\n",
      "processing record 276 | Rocha\n",
      "Sentyabrskiy not found. Skipping...\n",
      "processing record 278 | Turukhansk\n",
      "processing record 279 | Alofi\n",
      "processing record 280 | Healesville\n",
      "processing record 281 | Amapa\n",
      "processing record 282 | Saldanha\n",
      "processing record 283 | Bronnoysund\n",
      "processing record 284 | Santa teresa\n",
      "processing record 285 | Ghorawal\n",
      "processing record 286 | Teloes\n",
      "processing record 287 | Coihaique\n",
      "processing record 288 | Agropoli\n",
      "processing record 289 | Do gonbadan\n",
      "processing record 290 | Gongzhuling\n",
      "processing record 291 | Rio grande\n",
      "processing record 292 | Sabzevar\n",
      "processing record 293 | Awjilah\n",
      "Halalo not found. Skipping...\n",
      "processing record 295 | Manhattan\n",
      "processing record 296 | Fairbanks\n",
      "processing record 297 | Husavik\n",
      "processing record 298 | Kahului\n",
      "processing record 299 | Pilar\n",
      "processing record 300 | Solnechnyy\n",
      "processing record 301 | Raahe\n",
      "processing record 302 | Qasigiannguit\n",
      "processing record 303 | Tuy hoa\n",
      "processing record 304 | Cienfuegos\n",
      "processing record 305 | Santa cruz\n",
      "processing record 306 | Bharatpur\n",
      "processing record 307 | Saint-augustin\n",
      "processing record 308 | Kloulklubed\n",
      "processing record 309 | Manta\n",
      "processing record 310 | Acarau\n",
      "processing record 311 | Jiexiu\n",
      "processing record 312 | Penzance\n",
      "processing record 313 | Puerto el triunfo\n",
      "processing record 314 | Wielun\n",
      "processing record 315 | Marsa matruh\n",
      "processing record 316 | Rock springs\n",
      "processing record 317 | Maningrida\n",
      "processing record 318 | Atambua\n",
      "processing record 319 | Irmo\n",
      "processing record 320 | Asau\n",
      "processing record 321 | Mitsamiouli\n",
      "processing record 322 | Srandakan\n",
      "processing record 323 | Lompoc\n",
      "processing record 324 | Legarda\n",
      "processing record 325 | Kavaratti\n",
      "processing record 326 | Lazaro cardenas\n",
      "Urdzhar not found. Skipping...\n",
      "processing record 328 | Wagar\n",
      "processing record 329 | College\n",
      "processing record 330 | Curillo\n",
      "processing record 331 | Nakusp\n",
      "processing record 332 | Mahishadal\n",
      "processing record 333 | Vega de alatorre\n",
      "Toliary not found. Skipping...\n",
      "processing record 335 | Mackay\n",
      "processing record 336 | Berdigestyakh\n",
      "processing record 337 | Taoudenni\n",
      "processing record 338 | Kenai\n",
      "processing record 339 | Kidal\n",
      "processing record 340 | Sao miguel do araguaia\n",
      "processing record 341 | Sainte-marie\n",
      "processing record 342 | Pervomayskiy\n",
      "processing record 343 | Huntsville\n",
      "processing record 344 | Nuuk\n",
      "processing record 345 | Kawalu\n",
      "processing record 346 | Taybad\n",
      "processing record 347 | Fukue\n",
      "processing record 348 | Mecca\n",
      "processing record 349 | Camacha\n",
      "processing record 350 | Green river\n",
      "processing record 351 | Hofn\n",
      "processing record 352 | Yarmouth\n",
      "processing record 353 | Khorramabad\n",
      "processing record 354 | Saint-pierre\n",
      "processing record 355 | Kang\n",
      "processing record 356 | Salinas\n",
      "processing record 357 | Altay\n",
      "processing record 358 | Salzwedel\n",
      "processing record 359 | Esperance\n",
      "processing record 360 | Gbarnga\n",
      "processing record 361 | Port antonio\n",
      "processing record 362 | Valparaiso\n",
      "processing record 363 | Sinnamary\n",
      "processing record 364 | Mezen\n",
      "processing record 365 | Staritsa\n",
      "processing record 366 | Richards bay\n",
      "processing record 367 | Paraiso\n",
      "processing record 368 | Namibe\n",
      "processing record 369 | Erenhot\n",
      "processing record 370 | Pervomayskoye\n",
      "processing record 371 | Hamilton\n",
      "processing record 372 | Cockburn town\n",
      "Ngukurr not found. Skipping...\n",
      "processing record 374 | Smithers\n",
      "processing record 375 | Korla\n",
      "processing record 376 | Port macquarie\n",
      "processing record 377 | Olinda\n",
      "Aporawan not found. Skipping...\n",
      "processing record 379 | Los llanos de aridane\n",
      "Mys shmidta not found. Skipping...\n",
      "Phan rang not found. Skipping...\n",
      "processing record 382 | Marrakesh\n",
      "processing record 383 | Conway\n",
      "processing record 384 | Le port\n",
      "processing record 385 | Inirida\n",
      "processing record 386 | Cody\n",
      "processing record 387 | Laguna\n",
      "processing record 388 | Meadow lake\n",
      "processing record 389 | Gladstone\n",
      "processing record 390 | Tateyama\n",
      "processing record 391 | Ossora\n",
      "processing record 392 | Khash\n",
      "processing record 393 | Artyom\n",
      "processing record 394 | Gao\n",
      "processing record 395 | Riyadh\n",
      "Kachikau not found. Skipping...\n",
      "processing record 397 | Caravelas\n",
      "processing record 398 | Mairinque\n",
      "processing record 399 | Mongoumba\n",
      "processing record 400 | Semirom\n",
      "processing record 401 | Collie\n",
      "processing record 402 | Marzuq\n",
      "Ijaki not found. Skipping...\n",
      "processing record 404 | Yei\n",
      "processing record 405 | Terracina\n",
      "processing record 406 | Prince rupert\n",
      "processing record 407 | Inverell\n",
      "processing record 408 | Bambanglipuro\n",
      "processing record 409 | Zhangye\n",
      "processing record 410 | Tura\n",
      "processing record 411 | Mayo\n",
      "processing record 412 | La cruz\n",
      "processing record 413 | Abilene\n",
      "processing record 414 | Usak\n",
      "processing record 415 | Straumen\n",
      "processing record 416 | Kirovskiy\n",
      "processing record 417 | Mandera\n",
      "processing record 418 | Port shepstone\n",
      "processing record 419 | Katangli\n",
      "processing record 420 | Oranjemund\n",
      "processing record 421 | Bela\n",
      "processing record 422 | Olafsvik\n",
      "Karkaralinsk not found. Skipping...\n",
      "processing record 424 | Vardo\n",
      "processing record 425 | Luganville\n",
      "processing record 426 | Rwamagana\n",
      "processing record 427 | Villa guerrero\n",
      "processing record 428 | Guerrero negro\n",
      "processing record 429 | Tilichiki\n",
      "processing record 430 | Aranos\n",
      "processing record 431 | Anori\n",
      "processing record 432 | Tsalenjikha\n",
      "processing record 433 | Bontang\n",
      "processing record 434 | La union\n",
      "processing record 435 | Coihueco\n",
      "processing record 436 | Northam\n",
      "processing record 437 | Ilo\n",
      "processing record 438 | Borodino\n",
      "processing record 439 | Yarada\n",
      "processing record 440 | Williams lake\n",
      "processing record 441 | Pangnirtung\n",
      "processing record 442 | Lata\n",
      "processing record 443 | Luanda\n",
      "processing record 444 | Kalmunai\n",
      "Tabiauea not found. Skipping...\n",
      "processing record 446 | Petropavlovsk-kamchatskiy\n",
      "processing record 447 | Diofior\n",
      "processing record 448 | Jieshi\n",
      "processing record 449 | Ko samui\n",
      "processing record 450 | Oshakati\n",
      "processing record 451 | Kyabe\n",
      "processing record 452 | Bantogon\n",
      "processing record 453 | Sechura\n",
      "processing record 454 | Saint-leu\n",
      "processing record 455 | Iracoubo\n",
      "processing record 456 | Touros\n",
      "processing record 457 | Ondo\n",
      "processing record 458 | Grootfontein\n",
      "processing record 459 | Meulaboh\n",
      "processing record 460 | Union\n",
      "processing record 461 | High level\n",
      "processing record 462 | Xuanwu\n",
      "processing record 463 | Bima\n",
      "processing record 464 | Kamaishi\n",
      "processing record 465 | Sioux lookout\n",
      "processing record 466 | Chenove\n",
      "processing record 467 | Klaksvik\n",
      "Aflu not found. Skipping...\n",
      "processing record 469 | Avera\n",
      "processing record 470 | Fort nelson\n",
      "processing record 471 | Nome\n",
      "processing record 472 | Carnarvon\n",
      "processing record 473 | Chihuahua\n",
      "processing record 474 | Hermiston\n",
      "processing record 475 | Jinxiang\n",
      "processing record 476 | Kavieng\n",
      "processing record 477 | Noumea\n",
      "processing record 478 | Dire dawa\n",
      "processing record 479 | Verkhnyaya toyma\n",
      "processing record 480 | Togur\n",
      "processing record 481 | Japura\n",
      "processing record 482 | Poitiers\n",
      "processing record 483 | Lethem\n",
      "processing record 484 | Half moon bay\n",
      "processing record 485 | Aksay\n",
      "processing record 486 | Tepic\n",
      "processing record 487 | Christchurch\n",
      "processing record 488 | Sangmelima\n",
      "Sataua not found. Skipping...\n",
      "processing record 490 | Mamaku\n",
      "processing record 491 | Gushikawa\n",
      "processing record 492 | Deputatskiy\n",
      "processing record 493 | Cartago\n",
      "processing record 494 | Iqaluit\n",
      "processing record 495 | Duldurga\n",
      "processing record 496 | Morgan city\n",
      "processing record 497 | Beloha\n"
     ]
    },
    {
     "name": "stdout",
     "output_type": "stream",
     "text": [
      "processing record 498 | Sakakah\n",
      "processing record 499 | Krabi\n",
      "processing record 500 | Strezhevoy\n",
      "processing record 501 | Saint-francois\n",
      "processing record 502 | Toora-khem\n",
      "processing record 503 | Santa maria\n",
      "processing record 504 | Rantepao\n",
      "processing record 505 | Mongu\n",
      "processing record 506 | Puerto baquerizo moreno\n",
      "processing record 507 | Lengshuijiang\n",
      "processing record 508 | Havoysund\n",
      "processing record 509 | Jyvaskyla\n",
      "processing record 510 | Sola\n",
      "processing record 511 | Zhigansk\n",
      "processing record 512 | Cairns\n",
      "processing record 513 | Mouila\n",
      "processing record 514 | Moussoro\n",
      "Chagda not found. Skipping...\n",
      "processing record 516 | Ferrol\n",
      "processing record 517 | Waddan\n",
      "processing record 518 | Maldonado\n"
     ]
    }
   ],
   "source": [
    "indy = 0\n",
    "\n",
    "\n",
    "url = \"http://api.openweathermap.org/data/2.5/weather?\"\n",
    "for city in cities:\n",
    "    query_url = url + \"appid=\" + weather_api_key + \"&q=\" + city\n",
    "    query_url = f\"{url}appid={weather_api_key}&q={city}\"\n",
    "    weather_response = requests.get(query_url)\n",
    "    weather_json = weather_response.json()\n",
    "    if weather_json['cod'] == '404':\n",
    "        print(f\"{city} not found. Skipping...\")\n",
    "        city_df.drop(city_df.index[[indy]], inplace=True)\n",
    "    else:\n",
    "        print(f\"processing record {indy} | {city}\")\n",
    "        city_df.iloc[indy,1] = weather_json[\"clouds\"][\"all\"]\n",
    "        city_df.iloc[indy,2] = weather_json[\"sys\"][\"country\"]\n",
    "        city_df.iloc[indy,3] = weather_json[\"dt\"]\n",
    "        city_df.iloc[indy,4] = weather_json[\"main\"][\"humidity\"]\n",
    "        city_df.iloc[indy,5] = weather_json[\"coord\"][\"lat\"]\n",
    "        city_df.iloc[indy,6] = weather_json[\"coord\"][\"lon\"]\n",
    "        city_df.iloc[indy,7] = pytemperature.k2f(weather_json[\"main\"][\"temp_max\"])\n",
    "        city_df.iloc[indy,8] = weather_json[\"wind\"][\"speed\"]\n",
    "    if city_df.iloc[indy,1] == 'null':\n",
    "        city_df.drop(city_df.index[[indy]], inplace=True)\n",
    "        \n",
    "    indy += 1\n",
    "    if indy == len(city_df):\n",
    "        break"
   ]
  },
  {
   "cell_type": "markdown",
   "metadata": {},
   "source": [
    "### Convert Raw Data to DataFrame\n",
    "* Export the city data into a .csv.\n",
    "* Display the DataFrame"
   ]
  },
  {
   "cell_type": "code",
   "execution_count": 22,
   "metadata": {},
   "outputs": [
    {
     "name": "stdout",
     "output_type": "stream",
     "text": [
      "519  519\n"
     ]
    }
   ],
   "source": [
    "lenny = len(city_df)\n",
    "print(f\"{indy}  {lenny}\")"
   ]
  },
  {
   "cell_type": "code",
   "execution_count": 29,
   "metadata": {},
   "outputs": [],
   "source": [
    "city_df = city_df[city_df.Cloudiness != 'null']"
   ]
  },
  {
   "cell_type": "code",
   "execution_count": 30,
   "metadata": {},
   "outputs": [
    {
     "data": {
      "text/html": [
       "<div>\n",
       "<style scoped>\n",
       "    .dataframe tbody tr th:only-of-type {\n",
       "        vertical-align: middle;\n",
       "    }\n",
       "\n",
       "    .dataframe tbody tr th {\n",
       "        vertical-align: top;\n",
       "    }\n",
       "\n",
       "    .dataframe thead th {\n",
       "        text-align: right;\n",
       "    }\n",
       "</style>\n",
       "<table border=\"1\" class=\"dataframe\">\n",
       "  <thead>\n",
       "    <tr style=\"text-align: right;\">\n",
       "      <th></th>\n",
       "      <th>City</th>\n",
       "      <th>Cloudiness</th>\n",
       "      <th>Country</th>\n",
       "      <th>Date</th>\n",
       "      <th>Humidity</th>\n",
       "      <th>Lat</th>\n",
       "      <th>Lng</th>\n",
       "      <th>Max Temp</th>\n",
       "      <th>Wind Speed</th>\n",
       "    </tr>\n",
       "  </thead>\n",
       "  <tbody>\n",
       "    <tr>\n",
       "      <th>0</th>\n",
       "      <td>Ilulissat</td>\n",
       "      <td>75</td>\n",
       "      <td>GL</td>\n",
       "      <td>1587663475</td>\n",
       "      <td>86</td>\n",
       "      <td>69.22</td>\n",
       "      <td>-51.1</td>\n",
       "      <td>30.18</td>\n",
       "      <td>3.1</td>\n",
       "    </tr>\n",
       "    <tr>\n",
       "      <th>1</th>\n",
       "      <td>Ushuaia</td>\n",
       "      <td>75</td>\n",
       "      <td>AR</td>\n",
       "      <td>1587662862</td>\n",
       "      <td>75</td>\n",
       "      <td>-54.8</td>\n",
       "      <td>-68.3</td>\n",
       "      <td>44.58</td>\n",
       "      <td>10.8</td>\n",
       "    </tr>\n",
       "    <tr>\n",
       "      <th>2</th>\n",
       "      <td>Savonlinna</td>\n",
       "      <td>100</td>\n",
       "      <td>FI</td>\n",
       "      <td>1587663475</td>\n",
       "      <td>41</td>\n",
       "      <td>61.87</td>\n",
       "      <td>28.88</td>\n",
       "      <td>40.98</td>\n",
       "      <td>3.1</td>\n",
       "    </tr>\n",
       "    <tr>\n",
       "      <th>3</th>\n",
       "      <td>Krasnokamensk</td>\n",
       "      <td>71</td>\n",
       "      <td>RU</td>\n",
       "      <td>1587663475</td>\n",
       "      <td>57</td>\n",
       "      <td>50.1</td>\n",
       "      <td>118.04</td>\n",
       "      <td>37.87</td>\n",
       "      <td>5.22</td>\n",
       "    </tr>\n",
       "    <tr>\n",
       "      <th>4</th>\n",
       "      <td>Mataura</td>\n",
       "      <td>38</td>\n",
       "      <td>NZ</td>\n",
       "      <td>1587662957</td>\n",
       "      <td>85</td>\n",
       "      <td>-46.19</td>\n",
       "      <td>168.86</td>\n",
       "      <td>50.99</td>\n",
       "      <td>2.24</td>\n",
       "    </tr>\n",
       "    <tr>\n",
       "      <th>...</th>\n",
       "      <td>...</td>\n",
       "      <td>...</td>\n",
       "      <td>...</td>\n",
       "      <td>...</td>\n",
       "      <td>...</td>\n",
       "      <td>...</td>\n",
       "      <td>...</td>\n",
       "      <td>...</td>\n",
       "      <td>...</td>\n",
       "    </tr>\n",
       "    <tr>\n",
       "      <th>593</th>\n",
       "      <td>Brisbane</td>\n",
       "      <td>92</td>\n",
       "      <td>RU</td>\n",
       "      <td>1587663666</td>\n",
       "      <td>98</td>\n",
       "      <td>66.77</td>\n",
       "      <td>123.37</td>\n",
       "      <td>27.17</td>\n",
       "      <td>2.95</td>\n",
       "    </tr>\n",
       "    <tr>\n",
       "      <th>596</th>\n",
       "      <td>Cap malheureux</td>\n",
       "      <td>36</td>\n",
       "      <td>TD</td>\n",
       "      <td>1587663667</td>\n",
       "      <td>9</td>\n",
       "      <td>13.64</td>\n",
       "      <td>16.49</td>\n",
       "      <td>91.36</td>\n",
       "      <td>2.97</td>\n",
       "    </tr>\n",
       "    <tr>\n",
       "      <th>600</th>\n",
       "      <td>Solvychegodsk</td>\n",
       "      <td>13</td>\n",
       "      <td>ES</td>\n",
       "      <td>1587663453</td>\n",
       "      <td>76</td>\n",
       "      <td>43.48</td>\n",
       "      <td>-8.24</td>\n",
       "      <td>59.99</td>\n",
       "      <td>4.6</td>\n",
       "    </tr>\n",
       "    <tr>\n",
       "      <th>601</th>\n",
       "      <td>Klyuchi</td>\n",
       "      <td>0</td>\n",
       "      <td>LY</td>\n",
       "      <td>1587663667</td>\n",
       "      <td>21</td>\n",
       "      <td>29.16</td>\n",
       "      <td>16.14</td>\n",
       "      <td>77.3</td>\n",
       "      <td>6.92</td>\n",
       "    </tr>\n",
       "    <tr>\n",
       "      <th>602</th>\n",
       "      <td>Lasa</td>\n",
       "      <td>90</td>\n",
       "      <td>UY</td>\n",
       "      <td>1587663667</td>\n",
       "      <td>73</td>\n",
       "      <td>-34.67</td>\n",
       "      <td>-54.92</td>\n",
       "      <td>73.97</td>\n",
       "      <td>3.1</td>\n",
       "    </tr>\n",
       "  </tbody>\n",
       "</table>\n",
       "<p>411 rows × 9 columns</p>\n",
       "</div>"
      ],
      "text/plain": [
       "               City Cloudiness Country        Date Humidity    Lat     Lng  \\\n",
       "0         Ilulissat         75      GL  1587663475       86  69.22   -51.1   \n",
       "1           Ushuaia         75      AR  1587662862       75  -54.8   -68.3   \n",
       "2        Savonlinna        100      FI  1587663475       41  61.87   28.88   \n",
       "3     Krasnokamensk         71      RU  1587663475       57   50.1  118.04   \n",
       "4           Mataura         38      NZ  1587662957       85 -46.19  168.86   \n",
       "..              ...        ...     ...         ...      ...    ...     ...   \n",
       "593        Brisbane         92      RU  1587663666       98  66.77  123.37   \n",
       "596  Cap malheureux         36      TD  1587663667        9  13.64   16.49   \n",
       "600   Solvychegodsk         13      ES  1587663453       76  43.48   -8.24   \n",
       "601         Klyuchi          0      LY  1587663667       21  29.16   16.14   \n",
       "602            Lasa         90      UY  1587663667       73 -34.67  -54.92   \n",
       "\n",
       "    Max Temp Wind Speed  \n",
       "0      30.18        3.1  \n",
       "1      44.58       10.8  \n",
       "2      40.98        3.1  \n",
       "3      37.87       5.22  \n",
       "4      50.99       2.24  \n",
       "..       ...        ...  \n",
       "593    27.17       2.95  \n",
       "596    91.36       2.97  \n",
       "600    59.99        4.6  \n",
       "601     77.3       6.92  \n",
       "602    73.97        3.1  \n",
       "\n",
       "[411 rows x 9 columns]"
      ]
     },
     "execution_count": 30,
     "metadata": {},
     "output_type": "execute_result"
    }
   ],
   "source": [
    "city_df.to_csv('city_data.csv', index = False)\n",
    "city_df"
   ]
  },
  {
   "cell_type": "code",
   "execution_count": 31,
   "metadata": {},
   "outputs": [
    {
     "data": {
      "text/html": [
       "<div>\n",
       "<style scoped>\n",
       "    .dataframe tbody tr th:only-of-type {\n",
       "        vertical-align: middle;\n",
       "    }\n",
       "\n",
       "    .dataframe tbody tr th {\n",
       "        vertical-align: top;\n",
       "    }\n",
       "\n",
       "    .dataframe thead th {\n",
       "        text-align: right;\n",
       "    }\n",
       "</style>\n",
       "<table border=\"1\" class=\"dataframe\">\n",
       "  <thead>\n",
       "    <tr style=\"text-align: right;\">\n",
       "      <th></th>\n",
       "      <th>City</th>\n",
       "      <th>Cloudiness</th>\n",
       "      <th>Country</th>\n",
       "      <th>Date</th>\n",
       "      <th>Humidity</th>\n",
       "      <th>Lat</th>\n",
       "      <th>Lng</th>\n",
       "      <th>Max Temp</th>\n",
       "      <th>Wind Speed</th>\n",
       "    </tr>\n",
       "  </thead>\n",
       "  <tbody>\n",
       "  </tbody>\n",
       "</table>\n",
       "</div>"
      ],
      "text/plain": [
       "Empty DataFrame\n",
       "Columns: [City, Cloudiness, Country, Date, Humidity, Lat, Lng, Max Temp, Wind Speed]\n",
       "Index: []"
      ]
     },
     "execution_count": 31,
     "metadata": {},
     "output_type": "execute_result"
    }
   ],
   "source": [
    "null_group = city_df.loc[city_df['Humidity'] == 'null']\n",
    "null_group"
   ]
  },
  {
   "cell_type": "markdown",
   "metadata": {},
   "source": [
    "### Plotting the Data\n",
    "* Use proper labeling of the plots using plot titles (including date of analysis) and axes labels.\n",
    "* Save the plotted figures as .pngs."
   ]
  },
  {
   "cell_type": "code",
   "execution_count": null,
   "metadata": {},
   "outputs": [],
   "source": []
  },
  {
   "cell_type": "markdown",
   "metadata": {},
   "source": [
    "#### Latitude vs. Temperature Plot"
   ]
  },
  {
   "cell_type": "code",
   "execution_count": 32,
   "metadata": {
    "scrolled": true
   },
   "outputs": [
    {
     "data": {
      "image/png": "[encoded data removed]",
      "text/plain": [
       "<Figure size 432x288 with 1 Axes>"
      ]
     },
     "metadata": {
      "needs_background": "light"
     },
     "output_type": "display_data"
    }
   ],
   "source": [
    "x_axis = city_df['Lat']\n",
    "y_axis = city_df['Max Temp']\n",
    "plt.scatter(x_axis,y_axis,edgecolors='black')\n",
    "plt.xlabel(\"Max Temperature (F)\")\n",
    "plt.ylabel(\"Latitude\")\n",
    "plt.title(\"City Latitude vs. Max Temperature (04/12/20)\")\n",
    "plt.grid()"
   ]
  },
  {
   "cell_type": "markdown",
   "metadata": {},
   "source": [
    "#### Latitude vs. Humidity Plot"
   ]
  },
  {
   "cell_type": "code",
   "execution_count": 33,
   "metadata": {},
   "outputs": [
    {
     "data": {
      "image/png": "[encoded data removed]",
      "text/plain": [
       "<Figure size 432x288 with 1 Axes>"
      ]
     },
     "metadata": {
      "needs_background": "light"
     },
     "output_type": "display_data"
    }
   ],
   "source": [
    "x_axis = city_df['Lat']\n",
    "y_axis = city_df['Humidity']\n",
    "plt.scatter(x_axis,y_axis,edgecolors='black')\n",
    "plt.xlabel(\"Humidity (%)\")\n",
    "plt.ylabel(\"Latitude\")\n",
    "plt.title(\"City Latitude vs. Humidity (04/12/20)\")\n",
    "plt.grid()"
   ]
  },
  {
   "cell_type": "markdown",
   "metadata": {},
   "source": [
    "#### Latitude vs. Cloudiness Plot"
   ]
  },
  {
   "cell_type": "code",
   "execution_count": 34,
   "metadata": {},
   "outputs": [
    {
     "data": {
      "image/png": "[encoded data removed]",
      "text/plain": [
       "<Figure size 432x288 with 1 Axes>"
      ]
     },
     "metadata": {
      "needs_background": "light"
     },
     "output_type": "display_data"
    }
   ],
   "source": [
    "x_axis = city_df['Lat']\n",
    "y_axis = city_df['Cloudiness']\n",
    "plt.scatter(x_axis,y_axis,edgecolors='black')\n",
    "plt.xlabel(\"Cloudiness\")\n",
    "plt.ylabel(\"Latitude\")\n",
    "plt.title(\"City Latitude vs. Cloudiness (04/12/20)\")\n",
    "plt.grid()"
   ]
  },
  {
   "cell_type": "markdown",
   "metadata": {},
   "source": [
    "#### Latitude vs. Wind Speed Plot"
   ]
  },
  {
   "cell_type": "code",
   "execution_count": 35,
   "metadata": {},
   "outputs": [
    {
     "data": {
      "image/png": "[encoded data removed]",
      "text/plain": [
       "<Figure size 432x288 with 1 Axes>"
      ]
     },
     "metadata": {
      "needs_background": "light"
     },
     "output_type": "display_data"
    }
   ],
   "source": [
    "x_axis = city_df['Lat']\n",
    "y_axis = city_df['Wind Speed']\n",
    "plt.scatter(x_axis,y_axis,edgecolors='black')\n",
    "plt.xlabel(\"Wind Speed\")\n",
    "plt.ylabel(\"Latitude\")\n",
    "plt.title(\"City Latitude vs. Wind Speed (04/12/20)\")\n",
    "plt.grid()"
   ]
  },
  {
   "cell_type": "markdown",
   "metadata": {},
   "source": [
    "## Linear Regression"
   ]
  },
  {
   "cell_type": "code",
   "execution_count": 36,
   "metadata": {},
   "outputs": [],
   "source": [
    "# OPTIONAL: Create a function to create Linear Regression plots\n",
    "def linReg (x_axis,y_axis):\n",
    "#    x_axis = city_df['lat']\n",
    "#     y_axis = city_df[ycol]\n",
    "    correlation = st.pearsonr(x_axis,y_axis)\n",
    "    (slope, intercept, rvalue, pvalue, stderr) = st.linregress(x_axis, y_axis)\n",
    "    regress_values = x_axis * slope + intercept\n",
    "    line_eq = \"y = \" + str(round(slope,2)) + \"x + \" + str(round(intercept,2))\n",
    "    plt.scatter(x_axis,y_axis)\n",
    "    plt.plot(x_axis,regress_values,\"r-\")\n",
    "    plt.annotate(line_eq,(15,15),fontsize=15,color=\"red\")\n",
    "    plt.xlabel(\"Latitude\")"
   ]
  },
  {
   "cell_type": "code",
   "execution_count": 37,
   "metadata": {},
   "outputs": [],
   "source": [
    "# Create Northern and Southern Hemisphere DataFrames\n",
    "north = []\n",
    "south = []\n",
    "for row in city_df.itertuples():\n",
    "    if row[6] > 0:\n",
    "        north.append(row)\n",
    "    else:\n",
    "        south.append(row)\n",
    "north = pd.DataFrame(north)\n",
    "south = pd.DataFrame(south)\n",
    "north.columns = ['index','City','Cloudiness','Country','Date','Humidity','Lat','Lng','Max Temp','Wind Speed']\n",
    "south.columns = ['index','City','Cloudiness','Country','Date','Humidity','Lat','Lng','Max Temp','Wind Speed']"
   ]
  },
  {
   "cell_type": "markdown",
   "metadata": {},
   "source": [
    "####  Northern Hemisphere - Max Temp vs. Latitude Linear Regression"
   ]
  },
  {
   "cell_type": "code",
   "execution_count": 38,
   "metadata": {},
   "outputs": [
    {
     "data": {
      "text/plain": [
       "Text(0, 0.5, 'Max Temperature (F)')"
      ]
     },
     "execution_count": 38,
     "metadata": {},
     "output_type": "execute_result"
    },
    {
     "data": {
      "image/png": "[encoded data removed]",
      "text/plain": [
       "<Figure size 432x288 with 1 Axes>"
      ]
     },
     "metadata": {
      "needs_background": "light"
     },
     "output_type": "display_data"
    }
   ],
   "source": [
    "x_axis = north[\"Lat\"]\n",
    "y_axis = north[\"Max Temp\"]\n",
    "linReg(x_axis,y_axis)\n",
    "plt.ylabel(\"Max Temperature (F)\")"
   ]
  },
  {
   "cell_type": "markdown",
   "metadata": {},
   "source": [
    "####  Southern Hemisphere - Max Temp vs. Latitude Linear Regression"
   ]
  },
  {
   "cell_type": "code",
   "execution_count": 39,
   "metadata": {},
   "outputs": [
    {
     "data": {
      "text/plain": [
       "Text(0, 0.5, 'Max Temperature (F)')"
      ]
     },
     "execution_count": 39,
     "metadata": {},
     "output_type": "execute_result"
    },
    {
     "data": {
      "image/png": "[encoded data removed]",
      "text/plain": [
       "<Figure size 432x288 with 1 Axes>"
      ]
     },
     "metadata": {
      "needs_background": "light"
     },
     "output_type": "display_data"
    }
   ],
   "source": [
    "x_axis = south[\"Lat\"]\n",
    "y_axis = south[\"Max Temp\"]\n",
    "linReg(x_axis,y_axis)\n",
    "plt.ylabel(\"Max Temperature (F)\")"
   ]
  },
  {
   "cell_type": "markdown",
   "metadata": {},
   "source": [
    "####  Northern Hemisphere - Humidity (%) vs. Latitude Linear Regression"
   ]
  },
  {
   "cell_type": "code",
   "execution_count": 40,
   "metadata": {},
   "outputs": [
    {
     "data": {
      "text/plain": [
       "Text(0, 0.5, 'Humidity (%)')"
      ]
     },
     "execution_count": 40,
     "metadata": {},
     "output_type": "execute_result"
    },
    {
     "data": {
      "image/png": "[encoded data removed]",
      "text/plain": [
       "<Figure size 432x288 with 1 Axes>"
      ]
     },
     "metadata": {
      "needs_background": "light"
     },
     "output_type": "display_data"
    }
   ],
   "source": [
    "x_axis = north[\"Lat\"]\n",
    "y_axis = north[\"Humidity\"]\n",
    "linReg(x_axis,y_axis)\n",
    "plt.ylabel(\"Humidity (%)\")"
   ]
  },
  {
   "cell_type": "markdown",
   "metadata": {},
   "source": [
    "####  Southern Hemisphere - Humidity (%) vs. Latitude Linear Regression"
   ]
  },
  {
   "cell_type": "code",
   "execution_count": 41,
   "metadata": {},
   "outputs": [
    {
     "data": {
      "text/plain": [
       "Text(0, 0.5, 'Humidity (%)')"
      ]
     },
     "execution_count": 41,
     "metadata": {},
     "output_type": "execute_result"
    },
    {
     "data": {
      "image/png": "[encoded data removed]",
      "text/plain": [
       "<Figure size 432x288 with 1 Axes>"
      ]
     },
     "metadata": {
      "needs_background": "light"
     },
     "output_type": "display_data"
    }
   ],
   "source": [
    "x_axis = south[\"Lat\"]\n",
    "y_axis = south[\"Humidity\"]\n",
    "linReg(x_axis,y_axis)\n",
    "plt.ylabel(\"Humidity (%)\")"
   ]
  },
  {
   "cell_type": "markdown",
   "metadata": {},
   "source": [
    "####  Northern Hemisphere - Cloudiness (%) vs. Latitude Linear Regression"
   ]
  },
  {
   "cell_type": "code",
   "execution_count": 42,
   "metadata": {},
   "outputs": [
    {
     "data": {
      "text/plain": [
       "Text(0, 0.5, 'Cloudiness (%)')"
      ]
     },
     "execution_count": 42,
     "metadata": {},
     "output_type": "execute_result"
    },
    {
     "data": {
      "image/png": "[encoded data removed]",
      "text/plain": [
       "<Figure size 432x288 with 1 Axes>"
      ]
     },
     "metadata": {
      "needs_background": "light"
     },
     "output_type": "display_data"
    }
   ],
   "source": [
    "x_axis = north[\"Lat\"]\n",
    "y_axis = north[\"Cloudiness\"]\n",
    "linReg(x_axis,y_axis)\n",
    "plt.ylabel(\"Cloudiness (%)\")"
   ]
  },
  {
   "cell_type": "markdown",
   "metadata": {},
   "source": [
    "####  Southern Hemisphere - Cloudiness (%) vs. Latitude Linear Regression"
   ]
  },
  {
   "cell_type": "code",
   "execution_count": 43,
   "metadata": {},
   "outputs": [
    {
     "data": {
      "text/plain": [
       "Text(0, 0.5, 'Cloudiness (%)')"
      ]
     },
     "execution_count": 43,
     "metadata": {},
     "output_type": "execute_result"
    },
    {
     "data": {
      "image/png": "[encoded data removed]",
      "text/plain": [
       "<Figure size 432x288 with 1 Axes>"
      ]
     },
     "metadata": {
      "needs_background": "light"
     },
     "output_type": "display_data"
    }
   ],
   "source": [
    "x_axis = south[\"Lat\"]\n",
    "y_axis = south[\"Cloudiness\"]\n",
    "linReg(x_axis,y_axis)\n",
    "plt.ylabel(\"Cloudiness (%)\")"
   ]
  },
  {
   "cell_type": "markdown",
   "metadata": {},
   "source": [
    "####  Northern Hemisphere - Wind Speed (mph) vs. Latitude Linear Regression"
   ]
  },
  {
   "cell_type": "code",
   "execution_count": 44,
   "metadata": {},
   "outputs": [
    {
     "data": {
      "text/plain": [
       "Text(0, 0.5, 'Wind Speed')"
      ]
     },
     "execution_count": 44,
     "metadata": {},
     "output_type": "execute_result"
    },
    {
     "data": {
      "image/png": "[encoded data removed]",
      "text/plain": [
       "<Figure size 432x288 with 1 Axes>"
      ]
     },
     "metadata": {
      "needs_background": "light"
     },
     "output_type": "display_data"
    }
   ],
   "source": [
    "x_axis = north[\"Lat\"]\n",
    "y_axis = north[\"Wind Speed\"]\n",
    "linReg(x_axis,y_axis)\n",
    "plt.ylabel(\"Wind Speed\")"
   ]
  },
  {
   "cell_type": "markdown",
   "metadata": {},
   "source": [
    "####  Southern Hemisphere - Wind Speed (mph) vs. Latitude Linear Regression"
   ]
  },
  {
   "cell_type": "code",
   "execution_count": 45,
   "metadata": {},
   "outputs": [
    {
     "data": {
      "text/plain": [
       "Text(0, 0.5, 'Wind Speed')"
      ]
     },
     "execution_count": 45,
     "metadata": {},
     "output_type": "execute_result"
    },
    {
     "data": {
      "image/png": "[encoded data removed]",
      "text/plain": [
       "<Figure size 432x288 with 1 Axes>"
      ]
     },
     "metadata": {
      "needs_background": "light"
     },
     "output_type": "display_data"
    }
   ],
   "source": [
    "x_axis = south[\"Lat\"]\n",
    "y_axis = south[\"Wind Speed\"]\n",
    "linReg(x_axis,y_axis)\n",
    "plt.ylabel(\"Wind Speed\")"
   ]
  }
 ],
 "metadata": {
  "anaconda-cloud": {},
  "kernel_info": {
   "name": "python3"
  },
  "kernelspec": {
   "display_name": "Python 3",
   "language": "python",
   "name": "python3"
  },
  "language_info": {
   "codemirror_mode": {
    "name": "ipython",
    "version": 3
   },
   "file_extension": ".py",
   "mimetype": "text/x-python",
   "name": "python",
   "nbconvert_exporter": "python",
   "pygments_lexer": "ipython3",
   "version": "3.7.6"
  },
  "latex_envs": {
   "LaTeX_envs_menu_present": true,
   "autoclose": false,
   "autocomplete": true,
   "bibliofile": "biblio.bib",
   "cite_by": "apalike",
   "current_citInitial": 1,
   "eqLabelWithNumbers": true,
   "eqNumInitial": 1,
   "hotkeys": {
    "equation": "Ctrl-E",
    "itemize": "Ctrl-I"
   },
   "labels_anchors": false,
   "latex_user_defs": false,
   "report_style_numbering": false,
   "user_envs_cfg": false
  },
  "nteract": {
   "version": "0.12.3"
  }
 },
 "nbformat": 4,
 "nbformat_minor": 2
}
